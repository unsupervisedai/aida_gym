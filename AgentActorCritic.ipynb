{
 "cells": [
  {
   "cell_type": "markdown",
   "metadata": {},
   "source": [
    "# Simulation of a quadruped Robot\n",
    "\n",
    "\n",
    "Using the simulator the goal of this challenge is to come up with an Agent for controlling a Quadrupedal Robot on a flat environement. The best solution will be the solution that goes as far as possible given a number of Timesteps\n",
    "\n",
    "## Using the Environment\n",
    "\n",
    "You are provided with an environment that uses the [OpenAI Gym Interface](https://gym.openai.com/). \n",
    "\n",
    "Once initialized, you can interact with the environment using the step function that takes a set of actions ( a numpy array of size 12 between -1.0 and 1.0 that corresponds to target angles for each joints. ) \n",
    "The order of the joint angles is as follow [knee, hip, shoulder] for each of the legs in order [Front Left, Rear Right, Front Right, Rear Left]\n"
   ]
  },
  {
   "cell_type": "code",
   "execution_count": 1,
   "metadata": {
    "collapsed": true
   },
   "outputs": [],
   "source": [
    "import aida_env.aida_gym_env as e\n",
    "import pybullet as p\n",
    "import numpy as np\n"
   ]
  },
  {
   "cell_type": "code",
   "execution_count": 2,
   "metadata": {
    "scrolled": true
   },
   "outputs": [
    {
     "name": "stdout",
     "output_type": "stream",
     "text": [
      "urdf_root=/Library/anaconda/lib/python2.7/site-packages/pybullet_data\n",
      "aida_env/urdf/plane.urdf\n",
      "/Library/anaconda/lib/python2.7/site-packages/pybullet_data/plane.urdf\n",
      "(0.01, 1.0)\n",
      "\u001b[33mWARN: gym.spaces.Box autodetected dtype as <type 'numpy.float32'>. Please provide explicit dtype.\u001b[0m\n",
      "\u001b[33mWARN: gym.spaces.Box autodetected dtype as <type 'numpy.float32'>. Please provide explicit dtype.\u001b[0m\n"
     ]
    }
   ],
   "source": [
    "env = e.AidaBulletEnv(render=True, on_rack=False)  #  use on_rack to remove gravity\n"
   ]
  },
  {
   "cell_type": "code",
   "execution_count": 4,
   "metadata": {},
   "outputs": [
    {
     "ename": "TypeError",
     "evalue": "'NoneType' object is not iterable",
     "output_type": "error",
     "traceback": [
      "\u001b[0;31m---------------------------------------------------------------------------\u001b[0m",
      "\u001b[0;31mTypeError\u001b[0m                                 Traceback (most recent call last)",
      "\u001b[0;32m<ipython-input-4-76aaac526514>\u001b[0m in \u001b[0;36m<module>\u001b[0;34m()\u001b[0m\n\u001b[1;32m     13\u001b[0m     \u001b[0mjoint\u001b[0m \u001b[0;34m=\u001b[0m \u001b[0mint\u001b[0m\u001b[0;34m(\u001b[0m\u001b[0mi\u001b[0m \u001b[0;34m/\u001b[0m \u001b[0;36m100\u001b[0m\u001b[0;34m)\u001b[0m \u001b[0;31m# go through each joint one by one\u001b[0m\u001b[0;34m\u001b[0m\u001b[0m\n\u001b[1;32m     14\u001b[0m     \u001b[0mangle\u001b[0m \u001b[0;34m=\u001b[0m \u001b[0;34m(\u001b[0m\u001b[0mint\u001b[0m\u001b[0;34m(\u001b[0m\u001b[0mi\u001b[0m \u001b[0;34m/\u001b[0m \u001b[0;36m50\u001b[0m\u001b[0;34m)\u001b[0m \u001b[0;34m%\u001b[0m \u001b[0;36m2\u001b[0m \u001b[0;34m-\u001b[0m \u001b[0;36m1.0\u001b[0m\u001b[0;34m)\u001b[0m \u001b[0;31m# alternate between max and min angle for each joint.\u001b[0m\u001b[0;34m\u001b[0m\u001b[0m\n\u001b[0;32m---> 15\u001b[0;31m     \u001b[0menv\u001b[0m\u001b[0;34m.\u001b[0m\u001b[0mrender\u001b[0m\u001b[0;34m(\u001b[0m\u001b[0;34m)\u001b[0m\u001b[0;34m\u001b[0m\u001b[0m\n\u001b[0m\u001b[1;32m     16\u001b[0m     \u001b[0menv\u001b[0m\u001b[0;34m.\u001b[0m\u001b[0mstep\u001b[0m\u001b[0;34m(\u001b[0m\u001b[0magent\u001b[0m\u001b[0;34m.\u001b[0m\u001b[0mget_actions\u001b[0m\u001b[0;34m(\u001b[0m\u001b[0mjoint\u001b[0m\u001b[0;34m,\u001b[0m \u001b[0mangle\u001b[0m\u001b[0;34m)\u001b[0m\u001b[0;34m)\u001b[0m \u001b[0;31m# take a random actio\u001b[0m\u001b[0;34m\u001b[0m\u001b[0m\n",
      "\u001b[0;32m/Users/nikitakaraev/Desktop/PSC/aida_gym-master/aida_env/aida_gym_env.pyc\u001b[0m in \u001b[0;36m_render\u001b[0;34m(self, mode, close)\u001b[0m\n\u001b[1;32m    278\u001b[0m     (_, _, px, _, _) = self._pybullet_client.getCameraImage(\n\u001b[1;32m    279\u001b[0m         \u001b[0mwidth\u001b[0m\u001b[0;34m=\u001b[0m\u001b[0mRENDER_WIDTH\u001b[0m\u001b[0;34m,\u001b[0m \u001b[0mheight\u001b[0m\u001b[0;34m=\u001b[0m\u001b[0mRENDER_HEIGHT\u001b[0m\u001b[0;34m,\u001b[0m \u001b[0mviewMatrix\u001b[0m\u001b[0;34m=\u001b[0m\u001b[0mview_matrix\u001b[0m\u001b[0;34m,\u001b[0m\u001b[0;34m\u001b[0m\u001b[0m\n\u001b[0;32m--> 280\u001b[0;31m         projectionMatrix=proj_matrix, renderer=pybullet.ER_BULLET_HARDWARE_OPENGL)\n\u001b[0m\u001b[1;32m    281\u001b[0m     \u001b[0mrgb_array\u001b[0m \u001b[0;34m=\u001b[0m \u001b[0mnp\u001b[0m\u001b[0;34m.\u001b[0m\u001b[0marray\u001b[0m\u001b[0;34m(\u001b[0m\u001b[0mpx\u001b[0m\u001b[0;34m)\u001b[0m\u001b[0;34m\u001b[0m\u001b[0m\n\u001b[1;32m    282\u001b[0m     \u001b[0mrgb_array\u001b[0m \u001b[0;34m=\u001b[0m \u001b[0mrgb_array\u001b[0m\u001b[0;34m[\u001b[0m\u001b[0;34m:\u001b[0m\u001b[0;34m,\u001b[0m \u001b[0;34m:\u001b[0m\u001b[0;34m,\u001b[0m \u001b[0;34m:\u001b[0m\u001b[0;36m3\u001b[0m\u001b[0;34m]\u001b[0m\u001b[0;34m\u001b[0m\u001b[0m\n",
      "\u001b[0;31mTypeError\u001b[0m: 'NoneType' object is not iterable"
     ]
    }
   ],
   "source": [
    "# Each joint moving one by one. \n",
    "class Agent():\n",
    "    def get_actions(self, joint, v):\n",
    "        actions = np.zeros(12)\n",
    "        actions[joint] = v\n",
    "        return actions\n",
    "\n",
    "agent = Agent()\n",
    "\n",
    "for i in range(200):\n",
    "     env.step(np.zeros(12))  # init\n",
    "for i in range(1200):\n",
    "    joint = int(i / 100) # go through each joint one by one\n",
    "    angle = (int(i / 50) % 2 - 1.0) # alternate between max and min angle for each joint. \n",
    "    env.render()\n",
    "    env.step(agent.get_actions(joint, angle)) # take a random actio\n"
   ]
  },
  {
   "cell_type": "markdown",
   "metadata": {},
   "source": [
    "# Writing an Agent\n",
    "\n",
    "You can write an Agent to control the actions sent to the environment. "
   ]
  },
  {
   "cell_type": "code",
   "execution_count": null,
   "metadata": {
    "collapsed": true
   },
   "outputs": [],
   "source": [
    "#Close the windows and the env.\n",
    "p.disconnect()\n"
   ]
  },
  {
   "cell_type": "code",
   "execution_count": 2,
   "metadata": {},
   "outputs": [
    {
     "name": "stdout",
     "output_type": "stream",
     "text": [
      "urdf_root=/Library/anaconda/lib/python2.7/site-packages/pybullet_data\n",
      "aida_env/urdf/plane.urdf\n",
      "/Library/anaconda/lib/python2.7/site-packages/pybullet_data/plane.urdf\n",
      "(0.01, 1.0)\n",
      "\u001b[33mWARN: gym.spaces.Box autodetected dtype as <type 'numpy.float32'>. Please provide explicit dtype.\u001b[0m\n",
      "\u001b[33mWARN: gym.spaces.Box autodetected dtype as <type 'numpy.float32'>. Please provide explicit dtype.\u001b[0m\n"
     ]
    }
   ],
   "source": [
    "env = e.AidaBulletEnv(render=True, on_rack=False)  #  use on_rack to remove gravity\n"
   ]
  },
  {
   "cell_type": "code",
   "execution_count": 4,
   "metadata": {
    "collapsed": true
   },
   "outputs": [],
   "source": [
    "# A small baseline example.\n",
    "class Agent():\n",
    "    def __init__(self):\n",
    "        self.t = 0\n",
    "        \n",
    "    def get_actions(self):\n",
    "        self.t += 1\n",
    "        if self.t < 200:\n",
    "            return self.start()\n",
    "        \n",
    "        actions = self.circles(self.t)\n",
    "        actions_unsync = self.circles(self.t ,offset = np.pi )\n",
    "        actions = actions_unsync + actions_unsync + actions + actions\n",
    "        return actions\n",
    "    \n",
    "    def start(self):\n",
    "        return -0.5 * np.ones(12) # a good value to have the robot start on its legs\n",
    "\n",
    "    def circles(self, t, offset=0, speed=0.06):\n",
    "        return [-0.5 + np.sin(t * speed + offset) * 0.25, -0.5 + np.cos(t * speed + offset) * 0.25, -0.5]\n",
    "\n",
    "agent = Agent()"
   ]
  },
  {
   "cell_type": "code",
   "execution_count": null,
   "metadata": {},
   "outputs": [],
   "source": [
    "class Agent():\n",
    "    def __init__(self, final_point):\n",
    "        self.t = 0\n",
    "        self.final_point = final_point\n",
    "        \n",
    "    def get_actions(self):\n",
    "        self.t += 1\n",
    "        if self.t < 200:\n",
    "            return self.start()\n",
    "        \n",
    "        actions = self.circles(self.t)\n",
    "        actions_unsync = self.circles(self.t ,offset = np.pi )\n",
    "        actions = actions_unsync + actions_unsync + actions + actions\n",
    "        return actions\n",
    "    \n",
    "    def start(self):\n",
    "        return -0.5 * np.ones(12) # a good value to have the robot start on its legs\n",
    "\n",
    "    def circles(self, t, offset=0, speed=0.06):\n",
    "        return [-0.5 + np.sin(t * speed + offset) * 0.25, -0.5 + np.cos(t * speed + offset) * 0.25, -0.5]\n",
    "\n",
    "agent = Agent([100,200])"
   ]
  },
  {
   "cell_type": "code",
   "execution_count": 5,
   "metadata": {},
   "outputs": [
    {
     "name": "stdout",
     "output_type": "stream",
     "text": [
      "<bound method AidaBulletEnv._get_observation of <aida_env.aida_gym_env.AidaBulletEnv object at 0x102b10350>>\n",
      "<bound method AidaBulletEnv._get_observation of <aida_env.aida_gym_env.AidaBulletEnv object at 0x102b10350>>\n",
      "<bound method AidaBulletEnv._get_observation of <aida_env.aida_gym_env.AidaBulletEnv object at 0x102b10350>>\n",
      "<bound method AidaBulletEnv._get_observation of <aida_env.aida_gym_env.AidaBulletEnv object at 0x102b10350>>\n",
      "<bound method AidaBulletEnv._get_observation of <aida_env.aida_gym_env.AidaBulletEnv object at 0x102b10350>>\n",
      "<bound method AidaBulletEnv._get_observation of <aida_env.aida_gym_env.AidaBulletEnv object at 0x102b10350>>\n",
      "<bound method AidaBulletEnv._get_observation of <aida_env.aida_gym_env.AidaBulletEnv object at 0x102b10350>>\n",
      "<bound method AidaBulletEnv._get_observation of <aida_env.aida_gym_env.AidaBulletEnv object at 0x102b10350>>\n",
      "<bound method AidaBulletEnv._get_observation of <aida_env.aida_gym_env.AidaBulletEnv object at 0x102b10350>>\n",
      "<bound method AidaBulletEnv._get_observation of <aida_env.aida_gym_env.AidaBulletEnv object at 0x102b10350>>\n",
      "<bound method AidaBulletEnv._get_observation of <aida_env.aida_gym_env.AidaBulletEnv object at 0x102b10350>>\n",
      "<bound method AidaBulletEnv._get_observation of <aida_env.aida_gym_env.AidaBulletEnv object at 0x102b10350>>\n",
      "<bound method AidaBulletEnv._get_observation of <aida_env.aida_gym_env.AidaBulletEnv object at 0x102b10350>>\n",
      "<bound method AidaBulletEnv._get_observation of <aida_env.aida_gym_env.AidaBulletEnv object at 0x102b10350>>\n",
      "<bound method AidaBulletEnv._get_observation of <aida_env.aida_gym_env.AidaBulletEnv object at 0x102b10350>>\n",
      "<bound method AidaBulletEnv._get_observation of <aida_env.aida_gym_env.AidaBulletEnv object at 0x102b10350>>\n",
      "<bound method AidaBulletEnv._get_observation of <aida_env.aida_gym_env.AidaBulletEnv object at 0x102b10350>>\n",
      "<bound method AidaBulletEnv._get_observation of <aida_env.aida_gym_env.AidaBulletEnv object at 0x102b10350>>\n",
      "<bound method AidaBulletEnv._get_observation of <aida_env.aida_gym_env.AidaBulletEnv object at 0x102b10350>>\n",
      "<bound method AidaBulletEnv._get_observation of <aida_env.aida_gym_env.AidaBulletEnv object at 0x102b10350>>\n",
      "<bound method AidaBulletEnv._get_observation of <aida_env.aida_gym_env.AidaBulletEnv object at 0x102b10350>>\n",
      "<bound method AidaBulletEnv._get_observation of <aida_env.aida_gym_env.AidaBulletEnv object at 0x102b10350>>\n",
      "<bound method AidaBulletEnv._get_observation of <aida_env.aida_gym_env.AidaBulletEnv object at 0x102b10350>>\n",
      "<bound method AidaBulletEnv._get_observation of <aida_env.aida_gym_env.AidaBulletEnv object at 0x102b10350>>\n",
      "<bound method AidaBulletEnv._get_observation of <aida_env.aida_gym_env.AidaBulletEnv object at 0x102b10350>>\n",
      "<bound method AidaBulletEnv._get_observation of <aida_env.aida_gym_env.AidaBulletEnv object at 0x102b10350>>\n",
      "<bound method AidaBulletEnv._get_observation of <aida_env.aida_gym_env.AidaBulletEnv object at 0x102b10350>>\n",
      "<bound method AidaBulletEnv._get_observation of <aida_env.aida_gym_env.AidaBulletEnv object at 0x102b10350>>\n",
      "<bound method AidaBulletEnv._get_observation of <aida_env.aida_gym_env.AidaBulletEnv object at 0x102b10350>>\n",
      "<bound method AidaBulletEnv._get_observation of <aida_env.aida_gym_env.AidaBulletEnv object at 0x102b10350>>\n",
      "<bound method AidaBulletEnv._get_observation of <aida_env.aida_gym_env.AidaBulletEnv object at 0x102b10350>>\n",
      "<bound method AidaBulletEnv._get_observation of <aida_env.aida_gym_env.AidaBulletEnv object at 0x102b10350>>\n",
      "<bound method AidaBulletEnv._get_observation of <aida_env.aida_gym_env.AidaBulletEnv object at 0x102b10350>>\n",
      "<bound method AidaBulletEnv._get_observation of <aida_env.aida_gym_env.AidaBulletEnv object at 0x102b10350>>\n",
      "<bound method AidaBulletEnv._get_observation of <aida_env.aida_gym_env.AidaBulletEnv object at 0x102b10350>>\n",
      "<bound method AidaBulletEnv._get_observation of <aida_env.aida_gym_env.AidaBulletEnv object at 0x102b10350>>\n",
      "<bound method AidaBulletEnv._get_observation of <aida_env.aida_gym_env.AidaBulletEnv object at 0x102b10350>>\n",
      "<bound method AidaBulletEnv._get_observation of <aida_env.aida_gym_env.AidaBulletEnv object at 0x102b10350>>\n",
      "<bound method AidaBulletEnv._get_observation of <aida_env.aida_gym_env.AidaBulletEnv object at 0x102b10350>>\n",
      "<bound method AidaBulletEnv._get_observation of <aida_env.aida_gym_env.AidaBulletEnv object at 0x102b10350>>\n",
      "<bound method AidaBulletEnv._get_observation of <aida_env.aida_gym_env.AidaBulletEnv object at 0x102b10350>>\n",
      "<bound method AidaBulletEnv._get_observation of <aida_env.aida_gym_env.AidaBulletEnv object at 0x102b10350>>\n",
      "<bound method AidaBulletEnv._get_observation of <aida_env.aida_gym_env.AidaBulletEnv object at 0x102b10350>>\n",
      "<bound method AidaBulletEnv._get_observation of <aida_env.aida_gym_env.AidaBulletEnv object at 0x102b10350>>\n",
      "<bound method AidaBulletEnv._get_observation of <aida_env.aida_gym_env.AidaBulletEnv object at 0x102b10350>>\n",
      "<bound method AidaBulletEnv._get_observation of <aida_env.aida_gym_env.AidaBulletEnv object at 0x102b10350>>\n",
      "<bound method AidaBulletEnv._get_observation of <aida_env.aida_gym_env.AidaBulletEnv object at 0x102b10350>>\n",
      "<bound method AidaBulletEnv._get_observation of <aida_env.aida_gym_env.AidaBulletEnv object at 0x102b10350>>\n",
      "<bound method AidaBulletEnv._get_observation of <aida_env.aida_gym_env.AidaBulletEnv object at 0x102b10350>>\n",
      "<bound method AidaBulletEnv._get_observation of <aida_env.aida_gym_env.AidaBulletEnv object at 0x102b10350>>\n",
      "<bound method AidaBulletEnv._get_observation of <aida_env.aida_gym_env.AidaBulletEnv object at 0x102b10350>>\n"
     ]
    },
    {
     "ename": "KeyboardInterrupt",
     "evalue": "",
     "output_type": "error",
     "traceback": [
      "\u001b[0;31m---------------------------------------------------------------------------\u001b[0m",
      "\u001b[0;31mKeyboardInterrupt\u001b[0m                         Traceback (most recent call last)",
      "\u001b[0;32m<ipython-input-5-c1cde8920946>\u001b[0m in \u001b[0;36m<module>\u001b[0;34m()\u001b[0m\n\u001b[1;32m      2\u001b[0m     \u001b[0mobserv\u001b[0m \u001b[0;34m=\u001b[0m \u001b[0menv\u001b[0m\u001b[0;34m.\u001b[0m\u001b[0m_get_observation\u001b[0m\u001b[0;34m\u001b[0m\u001b[0m\n\u001b[1;32m      3\u001b[0m     \u001b[0;32mprint\u001b[0m\u001b[0;34m(\u001b[0m\u001b[0mobserv\u001b[0m\u001b[0;34m)\u001b[0m\u001b[0;34m\u001b[0m\u001b[0m\n\u001b[0;32m----> 4\u001b[0;31m     \u001b[0menv\u001b[0m\u001b[0;34m.\u001b[0m\u001b[0mstep\u001b[0m\u001b[0;34m(\u001b[0m\u001b[0magent\u001b[0m\u001b[0;34m.\u001b[0m\u001b[0mget_actions\u001b[0m\u001b[0;34m(\u001b[0m\u001b[0;34m)\u001b[0m\u001b[0;34m)\u001b[0m\u001b[0;34m\u001b[0m\u001b[0m\n\u001b[0m\u001b[1;32m      5\u001b[0m     \u001b[0;31m#print(env.aida.GetBasePosition())\u001b[0m\u001b[0;34m\u001b[0m\u001b[0;34m\u001b[0m\u001b[0m\n",
      "\u001b[0;32m/Users/nikitakaraev/Desktop/PSC/aida_gym-master/aida_env/aida_gym_env.pyc\u001b[0m in \u001b[0;36m_step\u001b[0;34m(self, action)\u001b[0m\n\u001b[1;32m    254\u001b[0m     \u001b[0maction\u001b[0m \u001b[0;34m=\u001b[0m \u001b[0mself\u001b[0m\u001b[0;34m.\u001b[0m\u001b[0m_transform_action_to_motor_command\u001b[0m\u001b[0;34m(\u001b[0m\u001b[0maction\u001b[0m\u001b[0;34m)\u001b[0m\u001b[0;34m\u001b[0m\u001b[0m\n\u001b[1;32m    255\u001b[0m     \u001b[0;32mfor\u001b[0m \u001b[0m_\u001b[0m \u001b[0;32min\u001b[0m \u001b[0mrange\u001b[0m\u001b[0;34m(\u001b[0m\u001b[0mself\u001b[0m\u001b[0;34m.\u001b[0m\u001b[0m_action_repeat\u001b[0m\u001b[0;34m)\u001b[0m\u001b[0;34m:\u001b[0m\u001b[0;34m\u001b[0m\u001b[0m\n\u001b[0;32m--> 256\u001b[0;31m       \u001b[0mself\u001b[0m\u001b[0;34m.\u001b[0m\u001b[0maida\u001b[0m\u001b[0;34m.\u001b[0m\u001b[0mApplyAction\u001b[0m\u001b[0;34m(\u001b[0m\u001b[0maction\u001b[0m\u001b[0;34m)\u001b[0m\u001b[0;34m\u001b[0m\u001b[0m\n\u001b[0m\u001b[1;32m    257\u001b[0m       \u001b[0mself\u001b[0m\u001b[0;34m.\u001b[0m\u001b[0m_pybullet_client\u001b[0m\u001b[0;34m.\u001b[0m\u001b[0mstepSimulation\u001b[0m\u001b[0;34m(\u001b[0m\u001b[0;34m)\u001b[0m\u001b[0;34m\u001b[0m\u001b[0m\n\u001b[1;32m    258\u001b[0m \u001b[0;34m\u001b[0m\u001b[0m\n",
      "\u001b[0;32m/Users/nikitakaraev/Desktop/PSC/aida_gym-master/aida_env/aida.pyc\u001b[0m in \u001b[0;36mApplyAction\u001b[0;34m(self, motor_commands)\u001b[0m\n\u001b[1;32m    307\u001b[0m         for motor_id, cmd in zip(\n\u001b[1;32m    308\u001b[0m                 self._motor_id_list, scaled_motor_commands_with_directions):\n\u001b[0;32m--> 309\u001b[0;31m             \u001b[0mself\u001b[0m\u001b[0;34m.\u001b[0m\u001b[0m_SetDesiredMotorAngleById\u001b[0m\u001b[0;34m(\u001b[0m\u001b[0mmotor_id\u001b[0m\u001b[0;34m,\u001b[0m \u001b[0mcmd\u001b[0m\u001b[0;34m)\u001b[0m\u001b[0;34m\u001b[0m\u001b[0m\n\u001b[0m\u001b[1;32m    310\u001b[0m \u001b[0;34m\u001b[0m\u001b[0m\n\u001b[1;32m    311\u001b[0m \u001b[0;34m\u001b[0m\u001b[0m\n",
      "\u001b[0;32m/Users/nikitakaraev/Desktop/PSC/aida_gym-master/aida_env/aida.pyc\u001b[0m in \u001b[0;36m_SetDesiredMotorAngleById\u001b[0;34m(self, motor_id, desired_angle)\u001b[0m\n\u001b[1;32m    193\u001b[0m             \u001b[0mpositionGain\u001b[0m\u001b[0;34m=\u001b[0m\u001b[0mself\u001b[0m\u001b[0;34m.\u001b[0m\u001b[0m_kp\u001b[0m\u001b[0;34m,\u001b[0m\u001b[0;34m\u001b[0m\u001b[0m\n\u001b[1;32m    194\u001b[0m             \u001b[0mvelocityGain\u001b[0m\u001b[0;34m=\u001b[0m\u001b[0mself\u001b[0m\u001b[0;34m.\u001b[0m\u001b[0m_kd\u001b[0m\u001b[0;34m,\u001b[0m\u001b[0;34m\u001b[0m\u001b[0m\n\u001b[0;32m--> 195\u001b[0;31m             force=self._max_force)\n\u001b[0m\u001b[1;32m    196\u001b[0m \u001b[0;34m\u001b[0m\u001b[0m\n\u001b[1;32m    197\u001b[0m     \u001b[0;32mdef\u001b[0m \u001b[0mget_default_angles\u001b[0m\u001b[0;34m(\u001b[0m\u001b[0mself\u001b[0m\u001b[0;34m,\u001b[0m \u001b[0mleg_id\u001b[0m\u001b[0;34m=\u001b[0m\u001b[0mFRONT_LEFT\u001b[0m\u001b[0;34m)\u001b[0m\u001b[0;34m:\u001b[0m\u001b[0;34m\u001b[0m\u001b[0m\n",
      "\u001b[0;31mKeyboardInterrupt\u001b[0m: "
     ]
    }
   ],
   "source": [
    "for i in range(2000):\n",
    "    observ = env._get_observation\n",
    "    print(observ)\n",
    "    env.step(agent.get_actions())\n",
    "    #print(env.aida.GetBasePosition())"
   ]
  },
  {
   "cell_type": "markdown",
   "metadata": {},
   "source": [
    "# Agents\n",
    "\n",
    "An agent must contain a function named get_actions() (without any args, see example above) that will return the next set of actions to be performed on the environment. Make sure that this is respected so that the testing function work ( see below).\n",
    "The test function will test how far the robot goes and return the distance from the start. This will be used to evaluate your solution."
   ]
  },
  {
   "cell_type": "code",
   "execution_count": null,
   "metadata": {
    "collapsed": true
   },
   "outputs": [],
   "source": [
    "from aida_env.utils import test_agent_on_env"
   ]
  },
  {
   "cell_type": "code",
   "execution_count": null,
   "metadata": {
    "collapsed": true
   },
   "outputs": [],
   "source": [
    "test_agent_on_env(agent)"
   ]
  },
  {
   "cell_type": "code",
   "execution_count": null,
   "metadata": {},
   "outputs": [],
   "source": []
  }
 ],
 "metadata": {
  "kernelspec": {
   "display_name": "Python 2",
   "language": "python",
   "name": "python2"
  },
  "language_info": {
   "codemirror_mode": {
    "name": "ipython",
    "version": 2
   },
   "file_extension": ".py",
   "mimetype": "text/x-python",
   "name": "python",
   "nbconvert_exporter": "python",
   "pygments_lexer": "ipython2",
   "version": "2.7.13"
  }
 },
 "nbformat": 4,
 "nbformat_minor": 2
}
